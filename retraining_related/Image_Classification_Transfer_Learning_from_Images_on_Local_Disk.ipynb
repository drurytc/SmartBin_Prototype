{
  "nbformat": 4,
  "nbformat_minor": 0,
  "metadata": {
    "colab": {
      "private_outputs": true,
      "provenance": []
    },
    "kernelspec": {
      "name": "python3",
      "display_name": "Python 3"
    },
    "language_info": {
      "name": "python"
    },
    "accelerator": "GPU",
    "gpuClass": "standard"
  },
  "cells": [
    {
      "cell_type": "markdown",
      "source": [
        "# Image Classification Transfer learning with dataset from local disk\n",
        "\n",
        "\n"
      ],
      "metadata": {
        "id": "1wnG49WvyLjb"
      }
    },
    {
      "cell_type": "markdown",
      "source": [
        "This Colab follows closely the https://www.tensorflow.org/lite/models/modify/model_maker/image_classification example, but with some small changes to upload custom images instead of downloading the example dataset\n",
        "\n",
        "Be careful that Colab limits your usage, so try to disconnect after retraining and downloading are finished, else you won't be able to access the perks of the GPU for a while"
      ],
      "metadata": {
        "id": "Dox-68f_S51T"
      }
    },
    {
      "cell_type": "markdown",
      "source": [
        "# Step 0: Prerequisites"
      ],
      "metadata": {
        "id": "Qvt6yfTQTL3D"
      }
    },
    {
      "cell_type": "code",
      "source": [
        "import os"
      ],
      "metadata": {
        "id": "V844ZqIT8ORm"
      },
      "execution_count": null,
      "outputs": []
    },
    {
      "cell_type": "code",
      "source": [
        "!pip install -q tflite-model-maker"
      ],
      "metadata": {
        "id": "Vc1_ZmyD8Sxq"
      },
      "execution_count": null,
      "outputs": []
    },
    {
      "cell_type": "code",
      "source": [
        "import numpy as np\n",
        "\n",
        "import tensorflow as tf\n",
        "assert tf.__version__.startswith('2')\n",
        "\n",
        "from tflite_model_maker import model_spec\n",
        "from tflite_model_maker import image_classifier\n",
        "from tflite_model_maker.config import ExportFormat\n",
        "from tflite_model_maker.config import QuantizationConfig\n",
        "from tflite_model_maker.image_classifier import DataLoader\n",
        "\n",
        "import matplotlib.pyplot as plt"
      ],
      "metadata": {
        "id": "M4_cVydA0C5X"
      },
      "execution_count": null,
      "outputs": []
    },
    {
      "cell_type": "markdown",
      "source": [
        "# Step 1: Loading data from local disk into TF ImageDataset object\n",
        "**Before running, go to the folder icon and drag a zipped dataset into /content/. (This should be the default location when opeing the files tab, it contains sample_data by default, place the zipped data set next to sample_data)**\n",
        "\n",
        "The dataset must have images properly sorted into labeled sub directories. Each sub directory will correspond to a new class in the models head layer. For example, make sure all images of plastic bottles are in the directory dataset/plastic_bottles/. "
      ],
      "metadata": {
        "id": "bxSipBL-ydJf"
      }
    },
    {
      "cell_type": "code",
      "source": [
        "!unzip -q Recyclables.zip"
      ],
      "metadata": {
        "id": "8qp5pXNY0ehX"
      },
      "execution_count": null,
      "outputs": []
    },
    {
      "cell_type": "markdown",
      "source": [
        "Set image path to the name of the uploaded data folder"
      ],
      "metadata": {
        "id": "9zibKssrBmyI"
      }
    },
    {
      "cell_type": "code",
      "source": [
        "image_path = 'Recyclables'"
      ],
      "metadata": {
        "id": "vRkHfpyQ35BC"
      },
      "execution_count": null,
      "outputs": []
    },
    {
      "cell_type": "markdown",
      "source": [
        "Using tflife_model_maker/image_classifer/Dataloader to load the data from folder. This will automatically label the images with the name of thier resident directory. "
      ],
      "metadata": {
        "id": "MTzKBSWaBuh9"
      }
    },
    {
      "cell_type": "code",
      "source": [
        "data = DataLoader.from_folder(image_path)"
      ],
      "metadata": {
        "id": "7p7Aowyv__aB"
      },
      "execution_count": null,
      "outputs": []
    },
    {
      "cell_type": "markdown",
      "source": [
        "Showing an example of 25 images to make sure the data was loaded in properly"
      ],
      "metadata": {
        "id": "VTniC8nkCOmq"
      }
    },
    {
      "cell_type": "code",
      "source": [
        "plt.figure(figsize=(10,10))\n",
        "for i, (image, label) in enumerate(data.gen_dataset().unbatch().take(25)):\n",
        "  plt.subplot(5,5,i+1)\n",
        "  plt.xticks([])\n",
        "  plt.yticks([])\n",
        "  plt.grid(False)\n",
        "  plt.imshow(image.numpy(), cmap=plt.cm.gray)\n",
        "  plt.xlabel(data.index_to_label[label.numpy()])\n",
        "plt.show()"
      ],
      "metadata": {
        "id": "q2JSQDAvAB4P"
      },
      "execution_count": null,
      "outputs": []
    },
    {
      "cell_type": "markdown",
      "source": [
        "## Train test splitting\n",
        "Here we are splitting the data into training, validation, and test data, with a 0.8 to 0.1 to 0.1 split, respectively. "
      ],
      "metadata": {
        "id": "jP8SaQn0A_NV"
      }
    },
    {
      "cell_type": "code",
      "source": [
        "train_data, rest_data = data.split(0.8)\n",
        "validation_data, test_data = rest_data.split(0.5)"
      ],
      "metadata": {
        "id": "BBv75Xp-AVd9"
      },
      "execution_count": null,
      "outputs": []
    },
    {
      "cell_type": "code",
      "source": [
        "print(type(train_data))"
      ],
      "metadata": {
        "id": "0utAssQ5K7_o"
      },
      "execution_count": null,
      "outputs": []
    },
    {
      "cell_type": "markdown",
      "source": [
        "# Step 2: Customizing the TF model"
      ],
      "metadata": {
        "id": "6Nv2ioIDCZdS"
      }
    },
    {
      "cell_type": "markdown",
      "source": [
        "Choose pretrained model to customize. Options using ModelMaker are: \n",
        "* 'efficientnet_lite0',\n",
        "*'efficientnet_lite1',\n",
        "*'efficientnet_lite2',\n",
        "*'efficientnet_lite3',\n",
        "*'efficientnet_lite4',\n",
        "*'mobilenet_v2',\n",
        "*'resnet_50'"
      ],
      "metadata": {
        "id": "Rv0TnlxTDWqK"
      }
    },
    {
      "cell_type": "markdown",
      "source": [
        "Through our benchmarks, we prioritized non-recyclable waste accuracy to minimize false positives, and we found that mobilenet_v2 with 15 epochs is the way to go for our current dataset. The data that we tested is included in the GitHub repo under benchmarking sheet.xlsx. If there are any significant changes to the dataset, please do step 3 for more benchmarking.:"
      ],
      "metadata": {
        "id": "Er0PvFqteffy"
      }
    },
    {
      "cell_type": "code",
      "source": [
        "model_spec='mobilenet_v2'"
      ],
      "metadata": {
        "id": "08ylfAcoC4dL"
      },
      "execution_count": null,
      "outputs": []
    },
    {
      "cell_type": "code",
      "source": [
        "model = image_classifier.create(\n",
        "  train_data, \n",
        "  validation_data=validation_data,\n",
        "  model_spec=model_spec,\n",
        "  epochs=20\n",
        ")"
      ],
      "metadata": {
        "id": "OPxg5p1WDPb1"
      },
      "execution_count": null,
      "outputs": []
    },
    {
      "cell_type": "markdown",
      "source": [
        "# Step 3: Evaluate the model"
      ],
      "metadata": {
        "id": "z-UEBuEBFaMj"
      }
    },
    {
      "cell_type": "markdown",
      "source": [
        "optional, do this to test out different specs.\n",
        "if you don't need to test them, skip this step\n",
        "\n"
      ],
      "metadata": {
        "id": "IvwXHue_cS7p"
      }
    },
    {
      "cell_type": "code",
      "source": [
        "loss, accuracy = model.evaluate(test_data)\n"
      ],
      "metadata": {
        "id": "7M4T4AJpFfER"
      },
      "execution_count": null,
      "outputs": []
    },
    {
      "cell_type": "code",
      "source": [
        "# A helper function that returns 'red'/'black' depending on if its two input\n",
        "# parameter matches or not.\n",
        "def get_label_color(val1, val2):\n",
        "  if val1 == val2:\n",
        "    return 'black'\n",
        "  else:\n",
        "    return 'red'\n",
        "\n",
        "# Then plot 100 test images and their predicted labels.\n",
        "# If a prediction result is different from the label provided label in \"test\"\n",
        "# dataset, we will highlight it in red color.\n",
        "plt.figure(figsize=(20, 20))\n",
        "predicts = model.predict_top_k(test_data)\n",
        "for i, (image, label) in enumerate(test_data.gen_dataset().unbatch().take(100)):\n",
        "  ax = plt.subplot(10, 10, i+1)\n",
        "  plt.xticks([])\n",
        "  plt.yticks([])\n",
        "  plt.grid(False)\n",
        "  plt.imshow(image.numpy(), cmap=plt.cm.gray)\n",
        "\n",
        "  predict_label = predicts[i][0][0]\n",
        "  color = get_label_color(predict_label,\n",
        "                          test_data.index_to_label[label.numpy()])\n",
        "  ax.xaxis.label.set_color(color)\n",
        "  plt.xlabel('Predicted: %s' % predict_label)\n",
        "plt.show()"
      ],
      "metadata": {
        "id": "JunOq6s2Ftd_"
      },
      "execution_count": null,
      "outputs": []
    },
    {
      "cell_type": "markdown",
      "source": [
        "# Export the model"
      ],
      "metadata": {
        "id": "k8MoA4HbsHMZ"
      }
    },
    {
      "cell_type": "markdown",
      "source": [
        "Run this to download the model as a .tflite file that you can load to the Raspberry pi"
      ],
      "metadata": {
        "id": "XRdxuBL6fW7Q"
      }
    },
    {
      "cell_type": "code",
      "source": [
        "model.export(export_dir='.', tflite_filename= f'{model_spec}.tflite')"
      ],
      "metadata": {
        "id": "33EPPMkasJx6"
      },
      "execution_count": null,
      "outputs": []
    },
    {
      "cell_type": "code",
      "source": [
        "# Download the TFLite model to your local computer.\n",
        "from google.colab import files\n",
        "files.download(f'{model_spec}.tflite')"
      ],
      "metadata": {
        "id": "nadN9uPeIgCK"
      },
      "execution_count": null,
      "outputs": []
    }
  ]
}